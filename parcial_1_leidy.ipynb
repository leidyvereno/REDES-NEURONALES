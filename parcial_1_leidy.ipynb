{
  "nbformat": 4,
  "nbformat_minor": 0,
  "metadata": {
    "colab": {
      "provenance": [],
      "gpuType": "T4",
      "authorship_tag": "ABX9TyNLV/4/uR5tk7S/EifWpbJG",
      "include_colab_link": true
    },
    "kernelspec": {
      "name": "python3",
      "display_name": "Python 3"
    },
    "language_info": {
      "name": "python"
    },
    "accelerator": "GPU"
  },
  "cells": [
    {
      "cell_type": "markdown",
      "metadata": {
        "id": "view-in-github",
        "colab_type": "text"
      },
      "source": [
        "<a href=\"https://colab.research.google.com/github/leidyvereno/REDES-NEURONALES/blob/main/parcial_1_leidy.ipynb\" target=\"_parent\"><img src=\"https://colab.research.google.com/assets/colab-badge.svg\" alt=\"Open In Colab\"/></a>"
      ]
    },
    {
      "cell_type": "markdown",
      "source": [
        "Ejercicio 1: Modo de Aprendizaje (Entrenamiento de la Red Neuronal)"
      ],
      "metadata": {
        "id": "82asqD-UMJue"
      }
    },
    {
      "cell_type": "code",
      "execution_count": null,
      "metadata": {
        "colab": {
          "base_uri": "https://localhost:8080/"
        },
        "id": "QvaESRsojYpl",
        "outputId": "8e16a0da-51b2-4217-e525-310c125470f3"
      },
      "outputs": [
        {
          "output_type": "stream",
          "name": "stdout",
          "text": [
            "Downloading data from https://storage.googleapis.com/tensorflow/tf-keras-datasets/mnist.npz\n",
            "\u001b[1m11490434/11490434\u001b[0m \u001b[32m━━━━━━━━━━━━━━━━━━━━\u001b[0m\u001b[37m\u001b[0m \u001b[1m0s\u001b[0m 0us/step\n"
          ]
        },
        {
          "output_type": "stream",
          "name": "stderr",
          "text": [
            "/usr/local/lib/python3.11/dist-packages/keras/src/layers/reshaping/flatten.py:37: UserWarning: Do not pass an `input_shape`/`input_dim` argument to a layer. When using Sequential models, prefer using an `Input(shape)` object as the first layer in the model instead.\n",
            "  super().__init__(**kwargs)\n"
          ]
        },
        {
          "output_type": "stream",
          "name": "stdout",
          "text": [
            "Modo de Aprendizaje: Entrenando la Red Neuronal...\n",
            "Epoch 1/5\n",
            "\u001b[1m1875/1875\u001b[0m \u001b[32m━━━━━━━━━━━━━━━━━━━━\u001b[0m\u001b[37m\u001b[0m \u001b[1m10s\u001b[0m 4ms/step - accuracy: 0.8796 - loss: 0.4273 - val_accuracy: 0.9589 - val_loss: 0.1355\n",
            "Epoch 2/5\n",
            "\u001b[1m1875/1875\u001b[0m \u001b[32m━━━━━━━━━━━━━━━━━━━━\u001b[0m\u001b[37m\u001b[0m \u001b[1m7s\u001b[0m 3ms/step - accuracy: 0.9630 - loss: 0.1249 - val_accuracy: 0.9700 - val_loss: 0.0973\n",
            "Epoch 3/5\n",
            "\u001b[1m1875/1875\u001b[0m \u001b[32m━━━━━━━━━━━━━━━━━━━━\u001b[0m\u001b[37m\u001b[0m \u001b[1m5s\u001b[0m 3ms/step - accuracy: 0.9770 - loss: 0.0772 - val_accuracy: 0.9733 - val_loss: 0.0876\n",
            "Epoch 4/5\n",
            "\u001b[1m1875/1875\u001b[0m \u001b[32m━━━━━━━━━━━━━━━━━━━━\u001b[0m\u001b[37m\u001b[0m \u001b[1m10s\u001b[0m 5ms/step - accuracy: 0.9829 - loss: 0.0571 - val_accuracy: 0.9763 - val_loss: 0.0766\n",
            "Epoch 5/5\n",
            "\u001b[1m1875/1875\u001b[0m \u001b[32m━━━━━━━━━━━━━━━━━━━━\u001b[0m\u001b[37m\u001b[0m \u001b[1m7s\u001b[0m 4ms/step - accuracy: 0.9877 - loss: 0.0407 - val_accuracy: 0.9746 - val_loss: 0.0815\n"
          ]
        },
        {
          "output_type": "execute_result",
          "data": {
            "text/plain": [
              "<keras.src.callbacks.history.History at 0x791fd02c8e10>"
            ]
          },
          "metadata": {},
          "execution_count": 1
        }
      ],
      "source": [
        "#Importar librerias necesarias\n",
        "import tensorflow as tf\n",
        "from tensorflow import keras\n",
        "\n",
        "#Cargar el dataset MNIST\n",
        "(x_train, y_train), (x_test, y_test) = keras.datasets.mnist.load_data()\n",
        "\n",
        "#Normalizar los datos (escala de 0 a 1)\n",
        "x_train, x_test = x_train / 255.0, x_test / 255.0\n",
        "\n",
        "#Definir la Red Neural\n",
        "model = keras.Sequential([\n",
        "    keras.layers.Flatten(input_shape=(28, 28)), #Capa de entrada\n",
        "    keras.layers.Dense(128, activation='relu'), # Capa oculta\n",
        "    keras.layers.Dense(10, activation='softmax') # Capa de Salida(10 clases)\n",
        "])\n",
        "\n",
        "#Compilar el modelo (modo de aprendizaje)\n",
        "model.compile(optimizer='adam',\n",
        "              loss='sparse_categorical_crossentropy',\n",
        "              metrics=['accuracy'])\n",
        "\n",
        "#Entrenar la Red Neuronal\n",
        "print(\"Modo de Aprendizaje: Entrenando la Red Neuronal...\")\n",
        "model.fit(x_train, y_train, epochs=5, validation_data=(x_test, y_test))"
      ]
    },
    {
      "cell_type": "markdown",
      "source": [
        "Cambio 1"
      ],
      "metadata": {
        "id": "J8E-skAJM3JA"
      }
    },
    {
      "cell_type": "code",
      "source": [
        "#Entrenar el modelo\n",
        "model.fit(x_train, y_train, epochs=3)\n",
        "\n",
        "#Evaluar el modelo\n",
        "test_loss, test_acc = model.evaluate(x_test, y_test)\n",
        "print(f'Precisión en el conjunto de prueba: {test_acc:.4f}')"
      ],
      "metadata": {
        "id": "0E4-hZhRjugr"
      },
      "execution_count": null,
      "outputs": []
    },
    {
      "cell_type": "markdown",
      "source": [
        "Cambio 2"
      ],
      "metadata": {
        "id": "bA5WxDztNAM2"
      }
    },
    {
      "cell_type": "code",
      "source": [
        "# Importar las bibliotecas necesarias\n",
        "import tensorflow as tf\n",
        "from tensorflow.keras import layers, models\n",
        "import matplotlib.pyplot as plt  # Para visualizar las imágenes\n",
        "\n",
        "# Cargar y preparar los datos de MNIST\n",
        "(x_train, y_train), (x_test, y_test) = tf.keras.datasets.mnist.load_data()\n",
        "\n",
        "# Normalizar los datos (valores entre 0 y 1)\n",
        "x_train = x_train / 255.0\n",
        "x_test = x_test / 255.0\n",
        "\n",
        "# Mostrar algunas imágenes de ejemplo\n",
        "plt.figure(figsize=(10, 5))  # Tamaño de la figura\n",
        "for i in range(10):  # Mostrar 10 imágenes\n",
        "    plt.subplot(2, 5, i+1)  # Organizar en 2 filas y 5 columnas\n",
        "    plt.imshow(x_train[i], cmap='gray')  # Mostrar la imagen en escala de grises\n",
        "    plt.title(f'Dígito: {y_train[i]}')  # Título con la etiqueta real\n",
        "    plt.axis('off')  # Quitar ejes\n",
        "plt.show()  # Mostrar todas las imágenes\n",
        "\n",
        "# Crear un modelo simple\n",
        "model = models.Sequential([\n",
        "    layers.Flatten(input_shape=(28, 28)),  # Aplanar las imágenes de 28x28 a un vector\n",
        "    layers.Dense(128, activation='relu'),  # Capa densa con 128 neuronas\n",
        "    layers.Dense(10, activation='softmax') # Capa de salida con 10 clases\n",
        "])\n",
        "\n",
        "# Compilar el modelo\n",
        "model.compile(optimizer='adam',\n",
        "              loss='sparse_categorical_crossentropy',\n",
        "              metrics=['accuracy'])\n",
        "\n",
        "# Entrenar el modelo\n",
        "model.fit(x_train, y_train, epochs=3)\n",
        "\n",
        "# Evaluar el modelo\n",
        "test_loss, test_acc = model.evaluate(x_test, y_test)\n",
        "print(f'Precisión en el conjunto de prueba: {test_acc:.4f}')"
      ],
      "metadata": {
        "id": "7AXiJxwSj7S7"
      },
      "execution_count": null,
      "outputs": []
    },
    {
      "cell_type": "markdown",
      "source": [
        "Ejercicio 2:Modo de Recuerdo (Inferencia o Prediccion)"
      ],
      "metadata": {
        "id": "zpQNSH4clo2_"
      }
    },
    {
      "cell_type": "code",
      "source": [
        "# Importar las bibliotecas necesarias\n",
        "import tensorflow as tf\n",
        "from tensorflow.keras import layers, models\n",
        "import matplotlib.pyplot as plt  # Para visualizar las imágenes\n",
        "\n",
        "# Cargar y preparar los datos de MNIST\n",
        "(x_train, y_train), (x_test, y_test) = tf.keras.datasets.mnist.load_data()\n",
        "\n",
        "# Normalizar los datos (valores entre 0 y 1)\n",
        "x_train = x_train / 255.0\n",
        "x_test = x_test / 255.0\n",
        "\n",
        "# Mostrar algunas imágenes de ejemplo\n",
        "plt.figure(figsize=(10, 5))  # Tamaño de la figura\n",
        "for i in range(10):  # Mostrar 10 imágenes\n",
        "    plt.subplot(2, 5, i+1)  # Organizar en 2 filas y 5 columnas\n",
        "    plt.imshow(x_train[i], cmap='gray')  # Mostrar la imagen en escala de grises\n",
        "    plt.title(f'Dígito: {y_train[i]}')  # Título con la etiqueta real\n",
        "    plt.axis('off')  # Quitar ejes\n",
        "plt.show()  # Mostrar todas las imágenes\n",
        "\n",
        "# Crear un modelo con memoria (LSTM)\n",
        "model = models.Sequential([\n",
        "    layers.Input(shape=(28, 28)),  # 28 pasos de tiempo (filas), 28 características (píxeles por fila)\n",
        "    layers.LSTM(128, return_sequences=False),  # Capa LSTM con 128 unidades, sin devolver secuencias\n",
        "    layers.Dense(10, activation='softmax')  # Capa de salida con 10 clases\n",
        "])\n",
        "\n",
        "# Compilar el modelo\n",
        "model.compile(optimizer='adam',\n",
        "              loss='sparse_categorical_crossentropy',\n",
        "              metrics=['accuracy'])\n",
        "\n",
        "#Resumen del modelo\n",
        "model.summary()\n",
        "\n",
        "# Entrenar el modelo\n",
        "model.fit(x_train, y_train, epochs=3)\n",
        "\n",
        "# Evaluar el modelo\n",
        "test_loss, test_acc = model.evaluate(x_test, y_test)\n",
        "print(f'Precisión en el conjunto de prueba: {test_acc:.4f}')"
      ],
      "metadata": {
        "id": "P8m2whcDlkkX"
      },
      "execution_count": null,
      "outputs": []
    }
  ]
}